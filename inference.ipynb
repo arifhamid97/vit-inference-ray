{
 "cells": [
  {
   "cell_type": "code",
   "execution_count": 9,
   "metadata": {},
   "outputs": [
    {
     "name": "stdout",
     "output_type": "stream",
     "text": [
      "Response status: {'message': 'Not_a_plant'}\n",
      "Response status: {'message': 'Not_a_plant'}\n",
      "Response status: {'message': 'Not_a_plant'}\n",
      "Response status: {'message': 'Not_a_plant'}\n",
      "Response status: {'message': 'Not_a_plant'}\n",
      "Response status: {'message': 'Not_a_plant'}\n",
      "Response status: {'message': 'Not_a_plant'}\n",
      "Response status: {'message': 'Not_a_plant'}\n",
      "Response status: {'message': 'Not_a_plant'}\n",
      "Response status: {'message': 'Not_a_plant'}\n",
      "Response status: {'message': 'Not_a_plant'}\n",
      "Response status: {'message': 'Not_a_plant'}\n",
      "Response status: {'message': 'Not_a_plant'}\n",
      "Response status: {'message': 'Not_a_plant'}\n",
      "Response status: {'message': 'Not_a_plant'}\n",
      "Response status: {'message': 'Not_a_plant'}\n",
      "Response status: {'message': 'Not_a_plant'}\n",
      "Response status: {'message': 'Not_a_plant'}\n",
      "Response status: {'message': 'Not_a_plant'}\n",
      "Response status: {'message': 'Not_a_plant'}\n"
     ]
    }
   ],
   "source": [
    "import requests\n",
    "from concurrent.futures import ThreadPoolExecutor, as_completed\n",
    "\n",
    "# Define the URL and file path\n",
    "url = 'http://localhost:5000/predict'\n",
    "file_path = './sample/1.jpg'  # Replace with your actual file path\n",
    "\n",
    "# Function to send request\n",
    "def send_request(url, file_path):\n",
    "    with open(file_path, 'rb') as file:\n",
    "        files = {'file': file}\n",
    "        response = requests.post(url, files=files)\n",
    "    return response\n",
    "\n",
    "# Number of requests to send\n",
    "N = 20  # Replace with the number of requests you want to send\n",
    "\n",
    "# List to store futures\n",
    "futures = []\n",
    "\n",
    "# Create ThreadPoolExecutor\n",
    "with ThreadPoolExecutor() as executor:\n",
    "    # Submit requests asynchronously\n",
    "    for _ in range(N):\n",
    "        future = executor.submit(send_request, url, file_path)\n",
    "        futures.append(future)\n",
    "    \n",
    "    # Gather results as they complete\n",
    "    for future in as_completed(futures):\n",
    "        try:\n",
    "            response = future.result()\n",
    "            print(f\"Response status: {response.json()}\")\n",
    "            # Process response as needed\n",
    "        except Exception as e:\n",
    "            print(f\"Request failed: {e}\")\n"
   ]
  }
 ],
 "metadata": {
  "kernelspec": {
   "display_name": ".venv",
   "language": "python",
   "name": "python3"
  },
  "language_info": {
   "codemirror_mode": {
    "name": "ipython",
    "version": 3
   },
   "file_extension": ".py",
   "mimetype": "text/x-python",
   "name": "python",
   "nbconvert_exporter": "python",
   "pygments_lexer": "ipython3",
   "version": "3.10.5"
  }
 },
 "nbformat": 4,
 "nbformat_minor": 2
}
